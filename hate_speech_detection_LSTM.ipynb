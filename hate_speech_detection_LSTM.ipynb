{
 "cells": [
  {
   "cell_type": "code",
   "execution_count": null,
   "id": "e08d314f",
   "metadata": {
    "id": "e08d314f"
   },
   "outputs": [],
   "source": []
  },
  {
   "cell_type": "code",
   "execution_count": 1,
   "id": "648d00bc",
   "metadata": {
    "id": "648d00bc"
   },
   "outputs": [],
   "source": [
    "import numpy as np\n",
    "import pandas as pd\n",
    "import seaborn as sns\n",
    "import matplotlib.pyplot as plt\n",
    "%matplotlib inline\n",
    "\n",
    "import string\n",
    "import re\n",
    "import random\n",
    "from collections import Counter\n",
    "\n",
    "import nltk\n",
    "from nltk.corpus import stopwords\n",
    "from nltk.stem import PorterStemmer\n",
    "from nltk import WordNetLemmatizer\n",
    "\n",
    "#vectorizer\n",
    "from sklearn.feature_extraction.text import TfidfVectorizer\n",
    "\n",
    "#class imbalance handle\n",
    "from imblearn.over_sampling import SMOTE\n",
    "from imblearn.under_sampling import RandomUnderSampler\n",
    "from imblearn.pipeline import Pipeline as PL\n",
    "\n",
    "#split\n",
    "from sklearn.model_selection import train_test_split\n",
    "from sklearn.model_selection import cross_val_score\n",
    "\n",
    "#modles\n",
    "from sklearn.linear_model import LogisticRegression\n",
    "from sklearn.ensemble import GradientBoostingClassifier\n",
    "from sklearn.naive_bayes import MultinomialNB\n",
    "from sklearn import svm\n",
    "from sklearn.ensemble import RandomForestClassifier\n",
    "\n",
    "\n",
    "#metrics\n",
    "from sklearn.metrics import confusion_matrix, classification_report\n",
    "from sklearn.metrics import accuracy_score, f1_score, recall_score, precision_score, roc_auc_score\n",
    "\n",
    "\n",
    "import warnings\n",
    "warnings.filterwarnings(\"ignore\")"
   ]
  },
  {
   "cell_type": "code",
   "execution_count": 2,
   "id": "b9KjREw1r-hs",
   "metadata": {
    "colab": {
     "base_uri": "https://localhost:8080/"
    },
    "id": "b9KjREw1r-hs",
    "outputId": "48f6cf2f-9760-485d-bf0a-5ece656c97b2"
   },
   "outputs": [],
   "source": [
    "# from google.colab import drive\n",
    "# drive.mount('/content/drive')"
   ]
  },
  {
   "cell_type": "code",
   "execution_count": 3,
   "id": "624dea04",
   "metadata": {
    "colab": {
     "base_uri": "https://localhost:8080/",
     "height": 363
    },
    "id": "624dea04",
    "outputId": "70684dd4-2bbb-437f-f257-13421a6a6030"
   },
   "outputs": [
    {
     "data": {
      "text/html": [
       "<div>\n",
       "<style scoped>\n",
       "    .dataframe tbody tr th:only-of-type {\n",
       "        vertical-align: middle;\n",
       "    }\n",
       "\n",
       "    .dataframe tbody tr th {\n",
       "        vertical-align: top;\n",
       "    }\n",
       "\n",
       "    .dataframe thead th {\n",
       "        text-align: right;\n",
       "    }\n",
       "</style>\n",
       "<table border=\"1\" class=\"dataframe\">\n",
       "  <thead>\n",
       "    <tr style=\"text-align: right;\">\n",
       "      <th></th>\n",
       "      <th>id</th>\n",
       "      <th>label</th>\n",
       "      <th>tweet</th>\n",
       "    </tr>\n",
       "  </thead>\n",
       "  <tbody>\n",
       "    <tr>\n",
       "      <th>0</th>\n",
       "      <td>1</td>\n",
       "      <td>0</td>\n",
       "      <td>@user when a father is dysfunctional and is s...</td>\n",
       "    </tr>\n",
       "    <tr>\n",
       "      <th>1</th>\n",
       "      <td>2</td>\n",
       "      <td>0</td>\n",
       "      <td>@user @user thanks for #lyft credit i can't us...</td>\n",
       "    </tr>\n",
       "    <tr>\n",
       "      <th>2</th>\n",
       "      <td>3</td>\n",
       "      <td>0</td>\n",
       "      <td>bihday your majesty</td>\n",
       "    </tr>\n",
       "    <tr>\n",
       "      <th>3</th>\n",
       "      <td>4</td>\n",
       "      <td>0</td>\n",
       "      <td>#model   i love u take with u all the time in ...</td>\n",
       "    </tr>\n",
       "    <tr>\n",
       "      <th>4</th>\n",
       "      <td>5</td>\n",
       "      <td>0</td>\n",
       "      <td>factsguide: society now    #motivation</td>\n",
       "    </tr>\n",
       "    <tr>\n",
       "      <th>5</th>\n",
       "      <td>6</td>\n",
       "      <td>0</td>\n",
       "      <td>[2/2] huge fan fare and big talking before the...</td>\n",
       "    </tr>\n",
       "    <tr>\n",
       "      <th>6</th>\n",
       "      <td>7</td>\n",
       "      <td>0</td>\n",
       "      <td>@user camping tomorrow @user @user @user @use...</td>\n",
       "    </tr>\n",
       "    <tr>\n",
       "      <th>7</th>\n",
       "      <td>8</td>\n",
       "      <td>0</td>\n",
       "      <td>the next school year is the year for exams.ð...</td>\n",
       "    </tr>\n",
       "    <tr>\n",
       "      <th>8</th>\n",
       "      <td>9</td>\n",
       "      <td>0</td>\n",
       "      <td>we won!!! love the land!!! #allin #cavs #champ...</td>\n",
       "    </tr>\n",
       "    <tr>\n",
       "      <th>9</th>\n",
       "      <td>10</td>\n",
       "      <td>0</td>\n",
       "      <td>@user @user welcome here !  i'm   it's so #gr...</td>\n",
       "    </tr>\n",
       "  </tbody>\n",
       "</table>\n",
       "</div>"
      ],
      "text/plain": [
       "   id  label                                              tweet\n",
       "0   1      0   @user when a father is dysfunctional and is s...\n",
       "1   2      0  @user @user thanks for #lyft credit i can't us...\n",
       "2   3      0                                bihday your majesty\n",
       "3   4      0  #model   i love u take with u all the time in ...\n",
       "4   5      0             factsguide: society now    #motivation\n",
       "5   6      0  [2/2] huge fan fare and big talking before the...\n",
       "6   7      0   @user camping tomorrow @user @user @user @use...\n",
       "7   8      0  the next school year is the year for exams.ð...\n",
       "8   9      0  we won!!! love the land!!! #allin #cavs #champ...\n",
       "9  10      0   @user @user welcome here !  i'm   it's so #gr..."
      ]
     },
     "execution_count": 3,
     "metadata": {},
     "output_type": "execute_result"
    }
   ],
   "source": [
    "# loading dataset\n",
    "\n",
    "df = pd.read_csv('train.csv')\n",
    "df.head(10)"
   ]
  },
  {
   "cell_type": "code",
   "execution_count": 4,
   "id": "3555d335",
   "metadata": {
    "id": "3555d335"
   },
   "outputs": [],
   "source": [
    "# dropping 'id' column\n",
    "\n",
    "df = df.drop('id', axis = 'columns')"
   ]
  },
  {
   "cell_type": "code",
   "execution_count": 5,
   "id": "02d9406c",
   "metadata": {
    "colab": {
     "base_uri": "https://localhost:8080/",
     "height": 206
    },
    "id": "02d9406c",
    "outputId": "8c03bf40-bcce-4684-86d5-860be02b27ef"
   },
   "outputs": [
    {
     "data": {
      "text/html": [
       "<div>\n",
       "<style scoped>\n",
       "    .dataframe tbody tr th:only-of-type {\n",
       "        vertical-align: middle;\n",
       "    }\n",
       "\n",
       "    .dataframe tbody tr th {\n",
       "        vertical-align: top;\n",
       "    }\n",
       "\n",
       "    .dataframe thead th {\n",
       "        text-align: right;\n",
       "    }\n",
       "</style>\n",
       "<table border=\"1\" class=\"dataframe\">\n",
       "  <thead>\n",
       "    <tr style=\"text-align: right;\">\n",
       "      <th></th>\n",
       "      <th>label</th>\n",
       "      <th>tweet</th>\n",
       "    </tr>\n",
       "  </thead>\n",
       "  <tbody>\n",
       "    <tr>\n",
       "      <th>0</th>\n",
       "      <td>0</td>\n",
       "      <td>@user when a father is dysfunctional and is s...</td>\n",
       "    </tr>\n",
       "    <tr>\n",
       "      <th>1</th>\n",
       "      <td>0</td>\n",
       "      <td>@user @user thanks for #lyft credit i can't us...</td>\n",
       "    </tr>\n",
       "    <tr>\n",
       "      <th>2</th>\n",
       "      <td>0</td>\n",
       "      <td>bihday your majesty</td>\n",
       "    </tr>\n",
       "    <tr>\n",
       "      <th>3</th>\n",
       "      <td>0</td>\n",
       "      <td>#model   i love u take with u all the time in ...</td>\n",
       "    </tr>\n",
       "    <tr>\n",
       "      <th>4</th>\n",
       "      <td>0</td>\n",
       "      <td>factsguide: society now    #motivation</td>\n",
       "    </tr>\n",
       "  </tbody>\n",
       "</table>\n",
       "</div>"
      ],
      "text/plain": [
       "   label                                              tweet\n",
       "0      0   @user when a father is dysfunctional and is s...\n",
       "1      0  @user @user thanks for #lyft credit i can't us...\n",
       "2      0                                bihday your majesty\n",
       "3      0  #model   i love u take with u all the time in ...\n",
       "4      0             factsguide: society now    #motivation"
      ]
     },
     "execution_count": 5,
     "metadata": {},
     "output_type": "execute_result"
    }
   ],
   "source": [
    "df.head()"
   ]
  },
  {
   "cell_type": "code",
   "execution_count": 6,
   "id": "f55495f1",
   "metadata": {
    "colab": {
     "base_uri": "https://localhost:8080/",
     "height": 147
    },
    "id": "f55495f1",
    "outputId": "dd832a51-a22a-4673-c680-d99676296412"
   },
   "outputs": [
    {
     "data": {
      "text/plain": [
       "label    0\n",
       "tweet    0\n",
       "dtype: int64"
      ]
     },
     "execution_count": 6,
     "metadata": {},
     "output_type": "execute_result"
    }
   ],
   "source": [
    "df.isnull().sum()"
   ]
  },
  {
   "cell_type": "code",
   "execution_count": 7,
   "id": "afb2f25b",
   "metadata": {
    "colab": {
     "base_uri": "https://localhost:8080/"
    },
    "id": "afb2f25b",
    "outputId": "188ddbf2-ab72-44d2-e120-407a6df9dfc5"
   },
   "outputs": [
    {
     "name": "stdout",
     "output_type": "stream",
     "text": [
      "<class 'pandas.core.frame.DataFrame'>\n",
      "RangeIndex: 31962 entries, 0 to 31961\n",
      "Data columns (total 2 columns):\n",
      " #   Column  Non-Null Count  Dtype \n",
      "---  ------  --------------  ----- \n",
      " 0   label   31962 non-null  int64 \n",
      " 1   tweet   31962 non-null  object\n",
      "dtypes: int64(1), object(1)\n",
      "memory usage: 499.5+ KB\n"
     ]
    }
   ],
   "source": [
    "df.info()"
   ]
  },
  {
   "cell_type": "code",
   "execution_count": 8,
   "id": "318ed0cd",
   "metadata": {
    "colab": {
     "base_uri": "https://localhost:8080/",
     "height": 147
    },
    "id": "318ed0cd",
    "outputId": "7fcabc2f-24b9-40fe-e728-fdc6835df48b"
   },
   "outputs": [
    {
     "data": {
      "text/plain": [
       "False    29530\n",
       "True      2432\n",
       "dtype: int64"
      ]
     },
     "execution_count": 8,
     "metadata": {},
     "output_type": "execute_result"
    }
   ],
   "source": [
    "# let's check how many duplicates are there\n",
    "\n",
    "df.duplicated().value_counts()"
   ]
  },
  {
   "cell_type": "code",
   "execution_count": 9,
   "id": "3934a807",
   "metadata": {
    "colab": {
     "base_uri": "https://localhost:8080/",
     "height": 178
    },
    "id": "3934a807",
    "outputId": "bd560059-3551-4be6-f926-c716506123dd"
   },
   "outputs": [
    {
     "data": {
      "text/plain": [
       "0    29720\n",
       "1     2242\n",
       "Name: label, dtype: int64"
      ]
     },
     "execution_count": 9,
     "metadata": {},
     "output_type": "execute_result"
    }
   ],
   "source": [
    "df.label.value_counts()"
   ]
  },
  {
   "cell_type": "code",
   "execution_count": 10,
   "id": "7988f9cb",
   "metadata": {
    "id": "7988f9cb"
   },
   "outputs": [],
   "source": [
    "# dropping Duplicates\n",
    "\n",
    "df = df.drop_duplicates(keep='first')"
   ]
  },
  {
   "cell_type": "code",
   "execution_count": 11,
   "id": "c810ee04",
   "metadata": {
    "colab": {
     "base_uri": "https://localhost:8080/",
     "height": 178
    },
    "id": "c810ee04",
    "outputId": "09ceed5a-0479-41ff-f894-1c18865b6d9e"
   },
   "outputs": [
    {
     "data": {
      "text/plain": [
       "0    27517\n",
       "1     2013\n",
       "Name: label, dtype: int64"
      ]
     },
     "execution_count": 11,
     "metadata": {},
     "output_type": "execute_result"
    }
   ],
   "source": [
    "df.label.value_counts()"
   ]
  },
  {
   "cell_type": "code",
   "execution_count": 12,
   "id": "86b57cde",
   "metadata": {
    "colab": {
     "base_uri": "https://localhost:8080/",
     "height": 115
    },
    "id": "86b57cde",
    "outputId": "15706b8c-ab6b-4b13-d83e-ca6d32b681a9"
   },
   "outputs": [
    {
     "data": {
      "text/plain": [
       "False    29530\n",
       "dtype: int64"
      ]
     },
     "execution_count": 12,
     "metadata": {},
     "output_type": "execute_result"
    }
   ],
   "source": [
    "df.duplicated().value_counts()"
   ]
  },
  {
   "cell_type": "code",
   "execution_count": 13,
   "id": "9c53d39b",
   "metadata": {
    "colab": {
     "base_uri": "https://localhost:8080/"
    },
    "id": "9c53d39b",
    "outputId": "596caba4-679c-4876-bd8e-2445df24185b"
   },
   "outputs": [
    {
     "data": {
      "text/plain": [
       "(29530, 2)"
      ]
     },
     "execution_count": 13,
     "metadata": {},
     "output_type": "execute_result"
    }
   ],
   "source": [
    "df.shape"
   ]
  },
  {
   "cell_type": "markdown",
   "id": "10847ef2",
   "metadata": {
    "id": "10847ef2"
   },
   "source": [
    "## Preprocessing"
   ]
  },
  {
   "cell_type": "markdown",
   "id": "54878642",
   "metadata": {
    "id": "54878642"
   },
   "source": [
    "### Data Cleaning"
   ]
  },
  {
   "cell_type": "code",
   "execution_count": 14,
   "id": "dcb2c8f6",
   "metadata": {
    "colab": {
     "base_uri": "https://localhost:8080/"
    },
    "id": "dcb2c8f6",
    "outputId": "dc3441e1-0e52-4e88-fdcd-f6fa6fcd6111"
   },
   "outputs": [
    {
     "name": "stderr",
     "output_type": "stream",
     "text": [
      "[nltk_data] Downloading package stopwords to\n",
      "[nltk_data]     C:\\Users\\User\\AppData\\Roaming\\nltk_data...\n",
      "[nltk_data]   Package stopwords is already up-to-date!\n"
     ]
    },
    {
     "data": {
      "text/plain": [
       "True"
      ]
     },
     "execution_count": 14,
     "metadata": {},
     "output_type": "execute_result"
    }
   ],
   "source": [
    "nltk.download('stopwords')"
   ]
  },
  {
   "cell_type": "code",
   "execution_count": 15,
   "id": "65fb25e3",
   "metadata": {
    "id": "65fb25e3"
   },
   "outputs": [],
   "source": [
    "stop_words = stopwords.words('english')"
   ]
  },
  {
   "cell_type": "code",
   "execution_count": 16,
   "id": "3003cee7",
   "metadata": {
    "colab": {
     "base_uri": "https://localhost:8080/"
    },
    "id": "3003cee7",
    "outputId": "c2d41441-7a71-4b54-8258-56a1ea0f9fdb"
   },
   "outputs": [
    {
     "name": "stdout",
     "output_type": "stream",
     "text": [
      "179\n"
     ]
    }
   ],
   "source": [
    "print(len(stop_words))"
   ]
  },
  {
   "cell_type": "code",
   "execution_count": 17,
   "id": "c1fd6f77",
   "metadata": {
    "id": "c1fd6f77"
   },
   "outputs": [],
   "source": [
    "# Lowercase words\n",
    "\n",
    "def lower_case(df):\n",
    "    df['tweet'] = df['tweet'].apply(lambda x: \" \".join(x.lower() for x in x.split()))"
   ]
  },
  {
   "cell_type": "code",
   "execution_count": 18,
   "id": "abbd8d62",
   "metadata": {
    "id": "abbd8d62"
   },
   "outputs": [],
   "source": [
    "# Removing Stopwords\n",
    "\n",
    "def stop_words_remove(df):\n",
    "    df['tweet'] = df['tweet'].apply(lambda x: \" \".join(x for x in x.split() if x not in stop_words))"
   ]
  },
  {
   "cell_type": "code",
   "execution_count": 19,
   "id": "0ab0489c",
   "metadata": {
    "id": "0ab0489c"
   },
   "outputs": [],
   "source": [
    "# Removing the word 'user'\n",
    "\n",
    "def remove_word_user(df):\n",
    "    df['tweet'] = df['tweet'].apply(lambda x: \" \".join(x for x in x.split() if x != 'user'))"
   ]
  },
  {
   "cell_type": "code",
   "execution_count": 20,
   "id": "d5e45039",
   "metadata": {
    "id": "d5e45039"
   },
   "outputs": [],
   "source": [
    "# Lemmatization\n",
    "\n",
    "Word = WordNetLemmatizer()\n",
    "\n",
    "def lemmatize(df):\n",
    "    df['tweet'] = df['tweet'].apply(lambda x: \" \".join([Word.lemmatize(word) for word in x.split()]))"
   ]
  },
  {
   "cell_type": "code",
   "execution_count": 21,
   "id": "642c0244",
   "metadata": {
    "id": "642c0244"
   },
   "outputs": [],
   "source": [
    "#remove Hyperlinks and Markup\n",
    "\n",
    "def clean(raw):\n",
    "    result = re.sub(\"<[a][^>]*>(.+?)</[a]>\", 'Link.', raw)\n",
    "    result = re.sub('&gt;', \"\", result) # greater than sign\n",
    "    result = re.sub('&#x27;', \"'\", result) # apostrophe\n",
    "    result = re.sub('&quot;', '\"', result)\n",
    "    result = re.sub('&#x2F;', ' ', result)\n",
    "    result = re.sub('<p>', ' ', result) # paragraph tag\n",
    "    result = re.sub('<i>', ' ', result) #italics tag\n",
    "    result = re.sub('</i>', '', result)\n",
    "    result = re.sub('&#62;', '', result)\n",
    "    result = re.sub(\"\\n\", '', result) # newline\n",
    "    return result"
   ]
  },
  {
   "cell_type": "code",
   "execution_count": 22,
   "id": "c0b4b3e3",
   "metadata": {
    "id": "c0b4b3e3"
   },
   "outputs": [],
   "source": [
    "#remove emoji\n",
    "\n",
    "def deEmojify(x):\n",
    "    regrex_pattern = re.compile(pattern = \"[\"\n",
    "        u\"\\U0001F600-\\U0001F64F\"  # emoticons\n",
    "        u\"\\U0001F300-\\U0001F5FF\"  # symbols & pictographs\n",
    "        u\"\\U0001F680-\\U0001F6FF\"  # transport & map symbols\n",
    "        u\"\\U0001F1E0-\\U0001F1FF\"  # flags (iOS)\n",
    "                           \"]+\", flags = re.UNICODE)\n",
    "    return regrex_pattern.sub(r'', x)"
   ]
  },
  {
   "cell_type": "code",
   "execution_count": 23,
   "id": "4a9e1de1",
   "metadata": {
    "id": "4a9e1de1"
   },
   "outputs": [],
   "source": [
    "#remove punctuation\n",
    "\n",
    "def remove_punct(text):\n",
    "    text  = \"\".join([char for char in text if char not in string.punctuation])\n",
    "    text = re.sub('[0-9]+', '', text)\n",
    "    text = re.sub(r\"[^a-zA-Z0-9?!.,]+\", ' ', text)\n",
    "    return text"
   ]
  },
  {
   "cell_type": "code",
   "execution_count": 24,
   "id": "24707826",
   "metadata": {
    "id": "24707826"
   },
   "outputs": [],
   "source": [
    "def cleaning(df):\n",
    "    df['tweet'] = df['tweet'].apply(clean)\n",
    "    df['tweet'] = df['tweet'].apply(deEmojify)\n",
    "    df['tweet'] = df['tweet'].apply(lambda x: remove_punct(x))\n",
    "    lower_case(df)\n",
    "    stop_words_remove(df)\n",
    "    remove_word_user(df)\n",
    "    lemmatize(df)"
   ]
  },
  {
   "cell_type": "code",
   "execution_count": 25,
   "id": "WIAQITHDrc16",
   "metadata": {
    "colab": {
     "base_uri": "https://localhost:8080/"
    },
    "id": "WIAQITHDrc16",
    "outputId": "04e6d188-ecfb-432e-f4dc-e6ec8239d614"
   },
   "outputs": [
    {
     "name": "stderr",
     "output_type": "stream",
     "text": [
      "[nltk_data] Downloading package wordnet to\n",
      "[nltk_data]     C:\\Users\\User\\AppData\\Roaming\\nltk_data...\n",
      "[nltk_data]   Package wordnet is already up-to-date!\n"
     ]
    },
    {
     "data": {
      "text/plain": [
       "True"
      ]
     },
     "execution_count": 25,
     "metadata": {},
     "output_type": "execute_result"
    }
   ],
   "source": [
    "nltk.download('wordnet')"
   ]
  },
  {
   "cell_type": "code",
   "execution_count": 26,
   "id": "386f89f1",
   "metadata": {
    "id": "386f89f1"
   },
   "outputs": [],
   "source": [
    "cleaning(df)"
   ]
  },
  {
   "cell_type": "code",
   "execution_count": 27,
   "id": "iJqYFQMorh-i",
   "metadata": {
    "colab": {
     "base_uri": "https://localhost:8080/",
     "height": 676
    },
    "id": "iJqYFQMorh-i",
    "outputId": "42d7e364-9627-412a-f615-3ba4a3a4bd1b"
   },
   "outputs": [
    {
     "data": {
      "text/html": [
       "<div>\n",
       "<style scoped>\n",
       "    .dataframe tbody tr th:only-of-type {\n",
       "        vertical-align: middle;\n",
       "    }\n",
       "\n",
       "    .dataframe tbody tr th {\n",
       "        vertical-align: top;\n",
       "    }\n",
       "\n",
       "    .dataframe thead th {\n",
       "        text-align: right;\n",
       "    }\n",
       "</style>\n",
       "<table border=\"1\" class=\"dataframe\">\n",
       "  <thead>\n",
       "    <tr style=\"text-align: right;\">\n",
       "      <th></th>\n",
       "      <th>label</th>\n",
       "      <th>tweet</th>\n",
       "    </tr>\n",
       "  </thead>\n",
       "  <tbody>\n",
       "    <tr>\n",
       "      <th>0</th>\n",
       "      <td>0</td>\n",
       "      <td>father dysfunctional selfish drag kid dysfunct...</td>\n",
       "    </tr>\n",
       "    <tr>\n",
       "      <th>1</th>\n",
       "      <td>0</td>\n",
       "      <td>thanks lyft credit cant use cause dont offer w...</td>\n",
       "    </tr>\n",
       "    <tr>\n",
       "      <th>2</th>\n",
       "      <td>0</td>\n",
       "      <td>bihday majesty</td>\n",
       "    </tr>\n",
       "    <tr>\n",
       "      <th>3</th>\n",
       "      <td>0</td>\n",
       "      <td>model love u take u time ur</td>\n",
       "    </tr>\n",
       "    <tr>\n",
       "      <th>4</th>\n",
       "      <td>0</td>\n",
       "      <td>factsguide society motivation</td>\n",
       "    </tr>\n",
       "    <tr>\n",
       "      <th>5</th>\n",
       "      <td>0</td>\n",
       "      <td>huge fan fare big talking leave chaos pay disp...</td>\n",
       "    </tr>\n",
       "    <tr>\n",
       "      <th>6</th>\n",
       "      <td>0</td>\n",
       "      <td>camping tomorrow danny</td>\n",
       "    </tr>\n",
       "    <tr>\n",
       "      <th>7</th>\n",
       "      <td>0</td>\n",
       "      <td>next school year year exam cant think school e...</td>\n",
       "    </tr>\n",
       "    <tr>\n",
       "      <th>8</th>\n",
       "      <td>0</td>\n",
       "      <td>love land allin cavs champion cleveland clevel...</td>\n",
       "    </tr>\n",
       "    <tr>\n",
       "      <th>9</th>\n",
       "      <td>0</td>\n",
       "      <td>welcome im gr</td>\n",
       "    </tr>\n",
       "    <tr>\n",
       "      <th>10</th>\n",
       "      <td>0</td>\n",
       "      <td>ireland consumer price index mom climbed previ...</td>\n",
       "    </tr>\n",
       "    <tr>\n",
       "      <th>11</th>\n",
       "      <td>0</td>\n",
       "      <td>selfish orlando standwithorlando pulseshooting...</td>\n",
       "    </tr>\n",
       "    <tr>\n",
       "      <th>12</th>\n",
       "      <td>0</td>\n",
       "      <td>get see daddy today day gettingfed</td>\n",
       "    </tr>\n",
       "    <tr>\n",
       "      <th>13</th>\n",
       "      <td>1</td>\n",
       "      <td>cnn call michigan middle school build wall cha...</td>\n",
       "    </tr>\n",
       "    <tr>\n",
       "      <th>14</th>\n",
       "      <td>1</td>\n",
       "      <td>comment australia opkillingbay seashepherd hel...</td>\n",
       "    </tr>\n",
       "    <tr>\n",
       "      <th>15</th>\n",
       "      <td>0</td>\n",
       "      <td>ouchjunior angry got junior yugyoem omg</td>\n",
       "    </tr>\n",
       "    <tr>\n",
       "      <th>16</th>\n",
       "      <td>0</td>\n",
       "      <td>thankful paner thankful positive</td>\n",
       "    </tr>\n",
       "    <tr>\n",
       "      <th>17</th>\n",
       "      <td>1</td>\n",
       "      <td>retweet agree</td>\n",
       "    </tr>\n",
       "    <tr>\n",
       "      <th>18</th>\n",
       "      <td>0</td>\n",
       "      <td>friday smile around via ig cooky make people</td>\n",
       "    </tr>\n",
       "    <tr>\n",
       "      <th>19</th>\n",
       "      <td>0</td>\n",
       "      <td>know essential oil made chemical</td>\n",
       "    </tr>\n",
       "  </tbody>\n",
       "</table>\n",
       "</div>"
      ],
      "text/plain": [
       "    label                                              tweet\n",
       "0       0  father dysfunctional selfish drag kid dysfunct...\n",
       "1       0  thanks lyft credit cant use cause dont offer w...\n",
       "2       0                                     bihday majesty\n",
       "3       0                        model love u take u time ur\n",
       "4       0                      factsguide society motivation\n",
       "5       0  huge fan fare big talking leave chaos pay disp...\n",
       "6       0                             camping tomorrow danny\n",
       "7       0  next school year year exam cant think school e...\n",
       "8       0  love land allin cavs champion cleveland clevel...\n",
       "9       0                                      welcome im gr\n",
       "10      0  ireland consumer price index mom climbed previ...\n",
       "11      0  selfish orlando standwithorlando pulseshooting...\n",
       "12      0                 get see daddy today day gettingfed\n",
       "13      1  cnn call michigan middle school build wall cha...\n",
       "14      1  comment australia opkillingbay seashepherd hel...\n",
       "15      0            ouchjunior angry got junior yugyoem omg\n",
       "16      0                   thankful paner thankful positive\n",
       "17      1                                      retweet agree\n",
       "18      0       friday smile around via ig cooky make people\n",
       "19      0                   know essential oil made chemical"
      ]
     },
     "execution_count": 27,
     "metadata": {},
     "output_type": "execute_result"
    }
   ],
   "source": [
    "df.head(20)"
   ]
  },
  {
   "cell_type": "code",
   "execution_count": 28,
   "id": "AChCSdCIBT7W",
   "metadata": {
    "colab": {
     "base_uri": "https://localhost:8080/"
    },
    "id": "AChCSdCIBT7W",
    "outputId": "3e8fd4cf-9365-465c-99a6-cbb6a2916a9d"
   },
   "outputs": [
    {
     "data": {
      "text/plain": [
       "(29530, 2)"
      ]
     },
     "execution_count": 28,
     "metadata": {},
     "output_type": "execute_result"
    }
   ],
   "source": [
    "df.shape"
   ]
  },
  {
   "cell_type": "markdown",
   "id": "D9gwJR8aqxS_",
   "metadata": {
    "id": "D9gwJR8aqxS_"
   },
   "source": [
    "**Now we check for data imbalance**"
   ]
  },
  {
   "cell_type": "code",
   "execution_count": 29,
   "id": "DDwOrjNr2DQ7",
   "metadata": {
    "colab": {
     "base_uri": "https://localhost:8080/",
     "height": 178
    },
    "id": "DDwOrjNr2DQ7",
    "outputId": "c7707c19-2d84-45af-f201-e38e3b8c2d77"
   },
   "outputs": [
    {
     "data": {
      "text/plain": [
       "0    27517\n",
       "1     2013\n",
       "Name: label, dtype: int64"
      ]
     },
     "execution_count": 29,
     "metadata": {},
     "output_type": "execute_result"
    }
   ],
   "source": [
    "df['label'].value_counts()"
   ]
  },
  {
   "cell_type": "code",
   "execution_count": 30,
   "id": "DnxcNzIZBp90",
   "metadata": {
    "colab": {
     "base_uri": "https://localhost:8080/",
     "height": 564
    },
    "id": "DnxcNzIZBp90",
    "outputId": "068d60d6-0b73-45c8-dae4-74961d9721f1"
   },
   "outputs": [
    {
     "name": "stdout",
     "output_type": "stream",
     "text": [
      "Percentage of Non Hate Speech (Postitive Sentiment) tweets is 93.18%\n",
      "Percentage of Hate Speech (Negative Sentiment) tweets is  6.82%\n"
     ]
    }
   ],
   "source": [
    "pos = 100*len(df.loc[df['label']==0,'label'])/len(df['label'])\n",
    "neg = 100*len(df.loc[df['label']==1,'label'])/len(df['label'])\n",
    "print(f'Percentage of Non Hate Speech (Postitive Sentiment) tweets is {pos:.2f}%')\n",
    "print(f'Percentage of Hate Speech (Negative Sentiment) tweets is {neg: .2f}%')\n",
    "# print('\\nClearly, The data is heavily Imbalanced')"
   ]
  },
  {
   "cell_type": "markdown",
   "id": "58b9645d",
   "metadata": {},
   "source": [
    "### Visualizing The Imbalanced Data"
   ]
  },
  {
   "cell_type": "code",
   "execution_count": 31,
   "id": "b9207e28",
   "metadata": {},
   "outputs": [
    {
     "data": {
      "image/png": "[encoded data removed]",
      "text/plain": [
       "<Figure size 800x600 with 1 Axes>"
      ]
     },
     "metadata": {},
     "output_type": "display_data"
    }
   ],
   "source": [
    "# Data\n",
    "labels = ['Non Hate Speech', 'Hate Speech']\n",
    "percentages = [pos, neg]\n",
    "\n",
    "# Create a bar plot\n",
    "plt.figure(figsize=(8, 6))\n",
    "plt.bar(labels, percentages, color=['#48b5c4', '#c86558'])\n",
    "plt.xlabel('Class Label')\n",
    "plt.ylabel('Percentage')\n",
    "plt.title('Class Imbalance in the Dataset')\n",
    "plt.ylim(0, 100)  # Set the y-axis limit to 0-100 for percentages\n",
    "# plt.xticks(rotation=45)  # Rotate x-axis labels for readability\n",
    "\n",
    "# Add percentage labels above the bars\n",
    "for i, p in enumerate(percentages):\n",
    "    plt.annotate(f'{p:.2f}%', (labels[i], p), ha='center', va='bottom')\n",
    "\n",
    "# Show the plot\n",
    "plt.show()"
   ]
  },
  {
   "cell_type": "markdown",
   "id": "4BfLO94ctoM8",
   "metadata": {
    "id": "4BfLO94ctoM8"
   },
   "source": [
    "Now, we have to deal with this imbalance. We will now move forward to vectorize the text data."
   ]
  },
  {
   "cell_type": "code",
   "execution_count": 32,
   "id": "exY6eGu3tp8j",
   "metadata": {
    "id": "exY6eGu3tp8j"
   },
   "outputs": [],
   "source": [
    "# Separating data and labels\n",
    "\n",
    "X = df.drop('label', axis = 'columns')\n",
    "y = df['label']"
   ]
  },
  {
   "cell_type": "code",
   "execution_count": 33,
   "id": "mn7BOAwgt8RT",
   "metadata": {
    "colab": {
     "base_uri": "https://localhost:8080/",
     "height": 423
    },
    "id": "mn7BOAwgt8RT",
    "outputId": "1e4a562c-e443-4c51-fc63-2266a18014d9"
   },
   "outputs": [
    {
     "data": {
      "text/html": [
       "<div>\n",
       "<style scoped>\n",
       "    .dataframe tbody tr th:only-of-type {\n",
       "        vertical-align: middle;\n",
       "    }\n",
       "\n",
       "    .dataframe tbody tr th {\n",
       "        vertical-align: top;\n",
       "    }\n",
       "\n",
       "    .dataframe thead th {\n",
       "        text-align: right;\n",
       "    }\n",
       "</style>\n",
       "<table border=\"1\" class=\"dataframe\">\n",
       "  <thead>\n",
       "    <tr style=\"text-align: right;\">\n",
       "      <th></th>\n",
       "      <th>tweet</th>\n",
       "    </tr>\n",
       "  </thead>\n",
       "  <tbody>\n",
       "    <tr>\n",
       "      <th>0</th>\n",
       "      <td>father dysfunctional selfish drag kid dysfunct...</td>\n",
       "    </tr>\n",
       "    <tr>\n",
       "      <th>1</th>\n",
       "      <td>thanks lyft credit cant use cause dont offer w...</td>\n",
       "    </tr>\n",
       "    <tr>\n",
       "      <th>2</th>\n",
       "      <td>bihday majesty</td>\n",
       "    </tr>\n",
       "    <tr>\n",
       "      <th>3</th>\n",
       "      <td>model love u take u time ur</td>\n",
       "    </tr>\n",
       "    <tr>\n",
       "      <th>4</th>\n",
       "      <td>factsguide society motivation</td>\n",
       "    </tr>\n",
       "    <tr>\n",
       "      <th>...</th>\n",
       "      <td>...</td>\n",
       "    </tr>\n",
       "    <tr>\n",
       "      <th>31956</th>\n",
       "      <td>fishing tomorrow carnt wait first time year</td>\n",
       "    </tr>\n",
       "    <tr>\n",
       "      <th>31957</th>\n",
       "      <td>ate isz youuu</td>\n",
       "    </tr>\n",
       "    <tr>\n",
       "      <th>31958</th>\n",
       "      <td>see nina turner airwave trying wrap mantle gen...</td>\n",
       "    </tr>\n",
       "    <tr>\n",
       "      <th>31959</th>\n",
       "      <td>listening sad song monday morning otw work sad</td>\n",
       "    </tr>\n",
       "    <tr>\n",
       "      <th>31961</th>\n",
       "      <td>thank follow</td>\n",
       "    </tr>\n",
       "  </tbody>\n",
       "</table>\n",
       "<p>29530 rows × 1 columns</p>\n",
       "</div>"
      ],
      "text/plain": [
       "                                                   tweet\n",
       "0      father dysfunctional selfish drag kid dysfunct...\n",
       "1      thanks lyft credit cant use cause dont offer w...\n",
       "2                                         bihday majesty\n",
       "3                            model love u take u time ur\n",
       "4                          factsguide society motivation\n",
       "...                                                  ...\n",
       "31956        fishing tomorrow carnt wait first time year\n",
       "31957                                      ate isz youuu\n",
       "31958  see nina turner airwave trying wrap mantle gen...\n",
       "31959     listening sad song monday morning otw work sad\n",
       "31961                                       thank follow\n",
       "\n",
       "[29530 rows x 1 columns]"
      ]
     },
     "execution_count": 33,
     "metadata": {},
     "output_type": "execute_result"
    }
   ],
   "source": [
    "X"
   ]
  },
  {
   "cell_type": "code",
   "execution_count": 34,
   "id": "f43c1f83",
   "metadata": {},
   "outputs": [
    {
     "data": {
      "text/plain": [
       "0        0\n",
       "1        0\n",
       "2        0\n",
       "3        0\n",
       "4        0\n",
       "        ..\n",
       "31956    0\n",
       "31957    0\n",
       "31958    0\n",
       "31959    0\n",
       "31961    0\n",
       "Name: label, Length: 29530, dtype: int64"
      ]
     },
     "execution_count": 34,
     "metadata": {},
     "output_type": "execute_result"
    }
   ],
   "source": [
    "y"
   ]
  },
  {
   "cell_type": "code",
   "execution_count": 35,
   "id": "AKLH5jVlt9Iz",
   "metadata": {
    "id": "AKLH5jVlt9Iz"
   },
   "outputs": [],
   "source": [
    "tfidf_vectorizer = TfidfVectorizer(stop_words=\"english\", max_features=10000, ngram_range=(1, 2))\n",
    "X_tfidf = tfidf_vectorizer.fit_transform(X['tweet'])\n",
    "\n",
    "# Convert the TFIDF matrix to a DataFrame and concatenate it with the other features\n",
    "X_tfidf_df = pd.DataFrame(X_tfidf.toarray(), columns=tfidf_vectorizer.get_feature_names_out())\n",
    "X = X.drop('tweet', axis='columns')\n",
    "X = pd.concat([X.reset_index(drop=True), X_tfidf_df.reset_index(drop=True)], axis='columns')\n",
    "X = X.fillna(0)"
   ]
  },
  {
   "cell_type": "code",
   "execution_count": 36,
   "id": "4rWaOFq2uY3k",
   "metadata": {
    "colab": {
     "base_uri": "https://localhost:8080/",
     "height": 461
    },
    "id": "4rWaOFq2uY3k",
    "outputId": "5dd2af26-be9b-4994-ede5-193dc451c1c3"
   },
   "outputs": [
    {
     "data": {
      "text/html": [
       "<div>\n",
       "<style scoped>\n",
       "    .dataframe tbody tr th:only-of-type {\n",
       "        vertical-align: middle;\n",
       "    }\n",
       "\n",
       "    .dataframe tbody tr th {\n",
       "        vertical-align: top;\n",
       "    }\n",
       "\n",
       "    .dataframe thead th {\n",
       "        text-align: right;\n",
       "    }\n",
       "</style>\n",
       "<table border=\"1\" class=\"dataframe\">\n",
       "  <thead>\n",
       "    <tr style=\"text-align: right;\">\n",
       "      <th></th>\n",
       "      <th>aampe</th>\n",
       "      <th>aap</th>\n",
       "      <th>ab</th>\n",
       "      <th>abandoned</th>\n",
       "      <th>abasel</th>\n",
       "      <th>abba</th>\n",
       "      <th>abc</th>\n",
       "      <th>ability</th>\n",
       "      <th>able</th>\n",
       "      <th>ableism</th>\n",
       "      <th>...</th>\n",
       "      <th>zero</th>\n",
       "      <th>zionazis</th>\n",
       "      <th>zionazis proud</th>\n",
       "      <th>zionism</th>\n",
       "      <th>zionism form</th>\n",
       "      <th>zombie</th>\n",
       "      <th>zone</th>\n",
       "      <th>zoo</th>\n",
       "      <th>zootopia</th>\n",
       "      <th>zoro</th>\n",
       "    </tr>\n",
       "  </thead>\n",
       "  <tbody>\n",
       "    <tr>\n",
       "      <th>0</th>\n",
       "      <td>0.0</td>\n",
       "      <td>0.0</td>\n",
       "      <td>0.0</td>\n",
       "      <td>0.0</td>\n",
       "      <td>0.0</td>\n",
       "      <td>0.0</td>\n",
       "      <td>0.0</td>\n",
       "      <td>0.0</td>\n",
       "      <td>0.0</td>\n",
       "      <td>0.0</td>\n",
       "      <td>...</td>\n",
       "      <td>0.0</td>\n",
       "      <td>0.0</td>\n",
       "      <td>0.0</td>\n",
       "      <td>0.0</td>\n",
       "      <td>0.0</td>\n",
       "      <td>0.0</td>\n",
       "      <td>0.0</td>\n",
       "      <td>0.0</td>\n",
       "      <td>0.0</td>\n",
       "      <td>0.0</td>\n",
       "    </tr>\n",
       "    <tr>\n",
       "      <th>1</th>\n",
       "      <td>0.0</td>\n",
       "      <td>0.0</td>\n",
       "      <td>0.0</td>\n",
       "      <td>0.0</td>\n",
       "      <td>0.0</td>\n",
       "      <td>0.0</td>\n",
       "      <td>0.0</td>\n",
       "      <td>0.0</td>\n",
       "      <td>0.0</td>\n",
       "      <td>0.0</td>\n",
       "      <td>...</td>\n",
       "      <td>0.0</td>\n",
       "      <td>0.0</td>\n",
       "      <td>0.0</td>\n",
       "      <td>0.0</td>\n",
       "      <td>0.0</td>\n",
       "      <td>0.0</td>\n",
       "      <td>0.0</td>\n",
       "      <td>0.0</td>\n",
       "      <td>0.0</td>\n",
       "      <td>0.0</td>\n",
       "    </tr>\n",
       "    <tr>\n",
       "      <th>2</th>\n",
       "      <td>0.0</td>\n",
       "      <td>0.0</td>\n",
       "      <td>0.0</td>\n",
       "      <td>0.0</td>\n",
       "      <td>0.0</td>\n",
       "      <td>0.0</td>\n",
       "      <td>0.0</td>\n",
       "      <td>0.0</td>\n",
       "      <td>0.0</td>\n",
       "      <td>0.0</td>\n",
       "      <td>...</td>\n",
       "      <td>0.0</td>\n",
       "      <td>0.0</td>\n",
       "      <td>0.0</td>\n",
       "      <td>0.0</td>\n",
       "      <td>0.0</td>\n",
       "      <td>0.0</td>\n",
       "      <td>0.0</td>\n",
       "      <td>0.0</td>\n",
       "      <td>0.0</td>\n",
       "      <td>0.0</td>\n",
       "    </tr>\n",
       "    <tr>\n",
       "      <th>3</th>\n",
       "      <td>0.0</td>\n",
       "      <td>0.0</td>\n",
       "      <td>0.0</td>\n",
       "      <td>0.0</td>\n",
       "      <td>0.0</td>\n",
       "      <td>0.0</td>\n",
       "      <td>0.0</td>\n",
       "      <td>0.0</td>\n",
       "      <td>0.0</td>\n",
       "      <td>0.0</td>\n",
       "      <td>...</td>\n",
       "      <td>0.0</td>\n",
       "      <td>0.0</td>\n",
       "      <td>0.0</td>\n",
       "      <td>0.0</td>\n",
       "      <td>0.0</td>\n",
       "      <td>0.0</td>\n",
       "      <td>0.0</td>\n",
       "      <td>0.0</td>\n",
       "      <td>0.0</td>\n",
       "      <td>0.0</td>\n",
       "    </tr>\n",
       "    <tr>\n",
       "      <th>4</th>\n",
       "      <td>0.0</td>\n",
       "      <td>0.0</td>\n",
       "      <td>0.0</td>\n",
       "      <td>0.0</td>\n",
       "      <td>0.0</td>\n",
       "      <td>0.0</td>\n",
       "      <td>0.0</td>\n",
       "      <td>0.0</td>\n",
       "      <td>0.0</td>\n",
       "      <td>0.0</td>\n",
       "      <td>...</td>\n",
       "      <td>0.0</td>\n",
       "      <td>0.0</td>\n",
       "      <td>0.0</td>\n",
       "      <td>0.0</td>\n",
       "      <td>0.0</td>\n",
       "      <td>0.0</td>\n",
       "      <td>0.0</td>\n",
       "      <td>0.0</td>\n",
       "      <td>0.0</td>\n",
       "      <td>0.0</td>\n",
       "    </tr>\n",
       "    <tr>\n",
       "      <th>...</th>\n",
       "      <td>...</td>\n",
       "      <td>...</td>\n",
       "      <td>...</td>\n",
       "      <td>...</td>\n",
       "      <td>...</td>\n",
       "      <td>...</td>\n",
       "      <td>...</td>\n",
       "      <td>...</td>\n",
       "      <td>...</td>\n",
       "      <td>...</td>\n",
       "      <td>...</td>\n",
       "      <td>...</td>\n",
       "      <td>...</td>\n",
       "      <td>...</td>\n",
       "      <td>...</td>\n",
       "      <td>...</td>\n",
       "      <td>...</td>\n",
       "      <td>...</td>\n",
       "      <td>...</td>\n",
       "      <td>...</td>\n",
       "      <td>...</td>\n",
       "    </tr>\n",
       "    <tr>\n",
       "      <th>29525</th>\n",
       "      <td>0.0</td>\n",
       "      <td>0.0</td>\n",
       "      <td>0.0</td>\n",
       "      <td>0.0</td>\n",
       "      <td>0.0</td>\n",
       "      <td>0.0</td>\n",
       "      <td>0.0</td>\n",
       "      <td>0.0</td>\n",
       "      <td>0.0</td>\n",
       "      <td>0.0</td>\n",
       "      <td>...</td>\n",
       "      <td>0.0</td>\n",
       "      <td>0.0</td>\n",
       "      <td>0.0</td>\n",
       "      <td>0.0</td>\n",
       "      <td>0.0</td>\n",
       "      <td>0.0</td>\n",
       "      <td>0.0</td>\n",
       "      <td>0.0</td>\n",
       "      <td>0.0</td>\n",
       "      <td>0.0</td>\n",
       "    </tr>\n",
       "    <tr>\n",
       "      <th>29526</th>\n",
       "      <td>0.0</td>\n",
       "      <td>0.0</td>\n",
       "      <td>0.0</td>\n",
       "      <td>0.0</td>\n",
       "      <td>0.0</td>\n",
       "      <td>0.0</td>\n",
       "      <td>0.0</td>\n",
       "      <td>0.0</td>\n",
       "      <td>0.0</td>\n",
       "      <td>0.0</td>\n",
       "      <td>...</td>\n",
       "      <td>0.0</td>\n",
       "      <td>0.0</td>\n",
       "      <td>0.0</td>\n",
       "      <td>0.0</td>\n",
       "      <td>0.0</td>\n",
       "      <td>0.0</td>\n",
       "      <td>0.0</td>\n",
       "      <td>0.0</td>\n",
       "      <td>0.0</td>\n",
       "      <td>0.0</td>\n",
       "    </tr>\n",
       "    <tr>\n",
       "      <th>29527</th>\n",
       "      <td>0.0</td>\n",
       "      <td>0.0</td>\n",
       "      <td>0.0</td>\n",
       "      <td>0.0</td>\n",
       "      <td>0.0</td>\n",
       "      <td>0.0</td>\n",
       "      <td>0.0</td>\n",
       "      <td>0.0</td>\n",
       "      <td>0.0</td>\n",
       "      <td>0.0</td>\n",
       "      <td>...</td>\n",
       "      <td>0.0</td>\n",
       "      <td>0.0</td>\n",
       "      <td>0.0</td>\n",
       "      <td>0.0</td>\n",
       "      <td>0.0</td>\n",
       "      <td>0.0</td>\n",
       "      <td>0.0</td>\n",
       "      <td>0.0</td>\n",
       "      <td>0.0</td>\n",
       "      <td>0.0</td>\n",
       "    </tr>\n",
       "    <tr>\n",
       "      <th>29528</th>\n",
       "      <td>0.0</td>\n",
       "      <td>0.0</td>\n",
       "      <td>0.0</td>\n",
       "      <td>0.0</td>\n",
       "      <td>0.0</td>\n",
       "      <td>0.0</td>\n",
       "      <td>0.0</td>\n",
       "      <td>0.0</td>\n",
       "      <td>0.0</td>\n",
       "      <td>0.0</td>\n",
       "      <td>...</td>\n",
       "      <td>0.0</td>\n",
       "      <td>0.0</td>\n",
       "      <td>0.0</td>\n",
       "      <td>0.0</td>\n",
       "      <td>0.0</td>\n",
       "      <td>0.0</td>\n",
       "      <td>0.0</td>\n",
       "      <td>0.0</td>\n",
       "      <td>0.0</td>\n",
       "      <td>0.0</td>\n",
       "    </tr>\n",
       "    <tr>\n",
       "      <th>29529</th>\n",
       "      <td>0.0</td>\n",
       "      <td>0.0</td>\n",
       "      <td>0.0</td>\n",
       "      <td>0.0</td>\n",
       "      <td>0.0</td>\n",
       "      <td>0.0</td>\n",
       "      <td>0.0</td>\n",
       "      <td>0.0</td>\n",
       "      <td>0.0</td>\n",
       "      <td>0.0</td>\n",
       "      <td>...</td>\n",
       "      <td>0.0</td>\n",
       "      <td>0.0</td>\n",
       "      <td>0.0</td>\n",
       "      <td>0.0</td>\n",
       "      <td>0.0</td>\n",
       "      <td>0.0</td>\n",
       "      <td>0.0</td>\n",
       "      <td>0.0</td>\n",
       "      <td>0.0</td>\n",
       "      <td>0.0</td>\n",
       "    </tr>\n",
       "  </tbody>\n",
       "</table>\n",
       "<p>29530 rows × 10000 columns</p>\n",
       "</div>"
      ],
      "text/plain": [
       "       aampe  aap   ab  abandoned  abasel  abba  abc  ability  able  ableism  \\\n",
       "0        0.0  0.0  0.0        0.0     0.0   0.0  0.0      0.0   0.0      0.0   \n",
       "1        0.0  0.0  0.0        0.0     0.0   0.0  0.0      0.0   0.0      0.0   \n",
       "2        0.0  0.0  0.0        0.0     0.0   0.0  0.0      0.0   0.0      0.0   \n",
       "3        0.0  0.0  0.0        0.0     0.0   0.0  0.0      0.0   0.0      0.0   \n",
       "4        0.0  0.0  0.0        0.0     0.0   0.0  0.0      0.0   0.0      0.0   \n",
       "...      ...  ...  ...        ...     ...   ...  ...      ...   ...      ...   \n",
       "29525    0.0  0.0  0.0        0.0     0.0   0.0  0.0      0.0   0.0      0.0   \n",
       "29526    0.0  0.0  0.0        0.0     0.0   0.0  0.0      0.0   0.0      0.0   \n",
       "29527    0.0  0.0  0.0        0.0     0.0   0.0  0.0      0.0   0.0      0.0   \n",
       "29528    0.0  0.0  0.0        0.0     0.0   0.0  0.0      0.0   0.0      0.0   \n",
       "29529    0.0  0.0  0.0        0.0     0.0   0.0  0.0      0.0   0.0      0.0   \n",
       "\n",
       "       ...  zero  zionazis  zionazis proud  zionism  zionism form  zombie  \\\n",
       "0      ...   0.0       0.0             0.0      0.0           0.0     0.0   \n",
       "1      ...   0.0       0.0             0.0      0.0           0.0     0.0   \n",
       "2      ...   0.0       0.0             0.0      0.0           0.0     0.0   \n",
       "3      ...   0.0       0.0             0.0      0.0           0.0     0.0   \n",
       "4      ...   0.0       0.0             0.0      0.0           0.0     0.0   \n",
       "...    ...   ...       ...             ...      ...           ...     ...   \n",
       "29525  ...   0.0       0.0             0.0      0.0           0.0     0.0   \n",
       "29526  ...   0.0       0.0             0.0      0.0           0.0     0.0   \n",
       "29527  ...   0.0       0.0             0.0      0.0           0.0     0.0   \n",
       "29528  ...   0.0       0.0             0.0      0.0           0.0     0.0   \n",
       "29529  ...   0.0       0.0             0.0      0.0           0.0     0.0   \n",
       "\n",
       "       zone  zoo  zootopia  zoro  \n",
       "0       0.0  0.0       0.0   0.0  \n",
       "1       0.0  0.0       0.0   0.0  \n",
       "2       0.0  0.0       0.0   0.0  \n",
       "3       0.0  0.0       0.0   0.0  \n",
       "4       0.0  0.0       0.0   0.0  \n",
       "...     ...  ...       ...   ...  \n",
       "29525   0.0  0.0       0.0   0.0  \n",
       "29526   0.0  0.0       0.0   0.0  \n",
       "29527   0.0  0.0       0.0   0.0  \n",
       "29528   0.0  0.0       0.0   0.0  \n",
       "29529   0.0  0.0       0.0   0.0  \n",
       "\n",
       "[29530 rows x 10000 columns]"
      ]
     },
     "execution_count": 36,
     "metadata": {},
     "output_type": "execute_result"
    }
   ],
   "source": [
    "X"
   ]
  },
  {
   "cell_type": "code",
   "execution_count": 37,
   "id": "92fed4c3",
   "metadata": {},
   "outputs": [
    {
     "data": {
      "text/plain": [
       "0        0\n",
       "1        0\n",
       "2        0\n",
       "3        0\n",
       "4        0\n",
       "        ..\n",
       "31956    0\n",
       "31957    0\n",
       "31958    0\n",
       "31959    0\n",
       "31961    0\n",
       "Name: label, Length: 29530, dtype: int64"
      ]
     },
     "execution_count": 37,
     "metadata": {},
     "output_type": "execute_result"
    }
   ],
   "source": [
    "y"
   ]
  },
  {
   "cell_type": "code",
   "execution_count": 38,
   "id": "2c10de4a",
   "metadata": {},
   "outputs": [
    {
     "data": {
      "text/plain": [
       "((29530, 10000), (29530,))"
      ]
     },
     "execution_count": 38,
     "metadata": {},
     "output_type": "execute_result"
    }
   ],
   "source": [
    "X.shape, y.shape"
   ]
  },
  {
   "cell_type": "code",
   "execution_count": 39,
   "id": "UcYmC1xYvhZ7",
   "metadata": {
    "id": "UcYmC1xYvhZ7"
   },
   "outputs": [],
   "source": [
    "# Define SMOTE and RandomUnderSampler\n",
    "over = SMOTE(sampling_strategy=0.4)\n",
    "under = RandomUnderSampler(sampling_strategy=0.5)\n",
    "\n",
    "# Create a pipeline for resampling\n",
    "steps = [('over', over), ('under', under)]\n",
    "pipeline = PL(steps=steps)\n",
    "\n",
    "# Apply the resampling\n",
    "X, y = pipeline.fit_resample(X, y)"
   ]
  },
  {
   "cell_type": "code",
   "execution_count": 40,
   "id": "186bd325",
   "metadata": {},
   "outputs": [
    {
     "data": {
      "text/plain": [
       "((33018, 10000), (33018,))"
      ]
     },
     "execution_count": 40,
     "metadata": {},
     "output_type": "execute_result"
    }
   ],
   "source": [
    "X.shape, y.shape"
   ]
  },
  {
   "cell_type": "markdown",
   "id": "2661b033",
   "metadata": {},
   "source": [
    "#### Checking the balance again"
   ]
  },
  {
   "cell_type": "code",
   "execution_count": 41,
   "id": "ed5c7c49",
   "metadata": {},
   "outputs": [
    {
     "name": "stdout",
     "output_type": "stream",
     "text": [
      "Percentage of Not Hate Speech (Positive Sentiment) tweets is  66.67%\n",
      "Percentage of Hate Speech (Negative Sentiment) tweets is  33.33%\n"
     ]
    }
   ],
   "source": [
    "# let's see the data now\n",
    "\n",
    "pos = 100 * len(y[y == 0]) / len(y)\n",
    "neg = 100 * len(y[y == 1]) / len(y)\n",
    "\n",
    "print(f'Percentage of Not Hate Speech (Positive Sentiment) tweets is {pos: .2f}%')\n",
    "print(f'Percentage of Hate Speech (Negative Sentiment) tweets is {neg: .2f}%')"
   ]
  },
  {
   "cell_type": "code",
   "execution_count": 42,
   "id": "f024e055",
   "metadata": {},
   "outputs": [
    {
     "data": {
      "image/png": "[encoded data removed]",
      "text/plain": [
       "<Figure size 800x600 with 1 Axes>"
      ]
     },
     "metadata": {},
     "output_type": "display_data"
    }
   ],
   "source": [
    "# visualising the data after SMOTE and RandomUnderSampler\n",
    "\n",
    "# Data\n",
    "labels = ['Non Hate Speech', 'Hate Speech']\n",
    "percentages = [pos, neg]\n",
    "\n",
    "# Create a bar plot\n",
    "plt.figure(figsize=(8, 6))\n",
    "plt.bar(labels, percentages, color=['#48b5c4', '#c86558'])\n",
    "plt.xlabel('Sentiment')\n",
    "plt.ylabel('Percentage')\n",
    "plt.title('Class Distribution in the Balanced Dataset')\n",
    "plt.ylim(0, 100)  # Set the y-axis limit to 0-100 for percentages\n",
    "\n",
    "# Add percentage labels above the bars\n",
    "for i, p in enumerate(percentages):\n",
    "    plt.annotate(f'{p:.2f}%', (labels[i], p), ha='center', va='bottom')\n",
    "\n",
    "# Show the plot\n",
    "plt.show()"
   ]
  },
  {
   "cell_type": "code",
   "execution_count": 43,
   "id": "biJZb8sEy_Oi",
   "metadata": {
    "id": "biJZb8sEy_Oi"
   },
   "outputs": [],
   "source": [
    "# Standard stratified train test split being done here\n",
    "\n",
    "X_train, X_test, y_train, y_test = train_test_split(X, y, random_state = 42,\n",
    "                                                   test_size = 0.25, stratify=y)"
   ]
  },
  {
   "cell_type": "code",
   "execution_count": 44,
   "id": "6093ac7d",
   "metadata": {},
   "outputs": [
    {
     "name": "stdout",
     "output_type": "stream",
     "text": [
      "Training set: 24763 samples\n",
      "Test set: 8255 samples\n"
     ]
    }
   ],
   "source": [
    "print(f\"Training set: {X_train.shape[0]} samples\")\n",
    "print(f\"Test set: {X_test.shape[0]} samples\")"
   ]
  },
  {
   "cell_type": "markdown",
   "id": "adab4e7e",
   "metadata": {},
   "source": [
    "### Model Training"
   ]
  },
  {
   "cell_type": "markdown",
   "id": "OQ4mBa6RFrIp",
   "metadata": {
    "id": "OQ4mBa6RFrIp"
   },
   "source": [
    "# Logistic Regression"
   ]
  },
  {
   "cell_type": "code",
   "execution_count": 45,
   "id": "3XGqUfrEFuCw",
   "metadata": {
    "id": "3XGqUfrEFuCw"
   },
   "outputs": [
    {
     "name": "stdout",
     "output_type": "stream",
     "text": [
      "Logistic Regression:\n",
      "Cross-Validation Scores: [0.924894   0.91661619 0.92125984 0.93134087 0.92003231]\n",
      "Mean CV Accuracy: 0.9228286441826187\n",
      "Test Accuracy : 0.93\n",
      "\n",
      "Confusion Matrix:\n",
      " [[5177  326]\n",
      " [ 284 2468]]\n",
      "Classification Report:\n",
      "               precision    recall  f1-score   support\n",
      "\n",
      "           0       0.95      0.94      0.94      5503\n",
      "           1       0.88      0.90      0.89      2752\n",
      "\n",
      "    accuracy                           0.93      8255\n",
      "   macro avg       0.92      0.92      0.92      8255\n",
      "weighted avg       0.93      0.93      0.93      8255\n",
      "\n"
     ]
    }
   ],
   "source": [
    "# Logistic Regression\n",
    "logreg = LogisticRegression(max_iter=1000, random_state=42)\n",
    "\n",
    "# Perform 5-fold cross-validation on the resampled training set\n",
    "cv_scores = cross_val_score(logreg, X_train, y_train, cv=5, scoring='accuracy')\n",
    "\n",
    "print(\"Logistic Regression:\")\n",
    "print(f\"Cross-Validation Scores: {cv_scores}\")\n",
    "print(f\"Mean CV Accuracy: {cv_scores.mean()}\")\n",
    "\n",
    "# Train the model on the training set\n",
    "logreg.fit(X_train, y_train)\n",
    "\n",
    "# Predicting test results\n",
    "y_pred = logreg.predict(X_test)\n",
    "\n",
    "# Evaluation\n",
    "\n",
    "print(\"Test Accuracy : %.2f\" % accuracy_score(y_test, y_pred))\n",
    "# print(\"Train Accuracy : %.2f\" % accuracy_score(y_train, logreg.predict(X_train)))\n",
    "print()\n",
    "\n",
    "# Confusion Matrix\n",
    "cm = confusion_matrix(y_test, y_pred)\n",
    "print(\"Confusion Matrix:\\n\", cm)\n",
    "\n",
    "# Classification Report\n",
    "print(\"Classification Report:\\n\", classification_report(y_test, y_pred))"
   ]
  },
  {
   "cell_type": "markdown",
   "id": "4841672b",
   "metadata": {},
   "source": [
    "# Gradient Boosting"
   ]
  },
  {
   "cell_type": "code",
   "execution_count": 46,
   "id": "76882d06",
   "metadata": {},
   "outputs": [
    {
     "name": "stdout",
     "output_type": "stream",
     "text": [
      "Gradient Boosting:\n",
      "Cross-Validation Scores: [0.80637997 0.81425399 0.81728246 0.819063   0.81663974]\n",
      "Mean CV Accuracy: 0.8147238321318945\n",
      "Test Accuracy : 0.81\n",
      "\n",
      "Confusion Matrix:\n",
      " [[5392  111]\n",
      " [1455 1297]]\n",
      "Classification Report:\n",
      "               precision    recall  f1-score   support\n",
      "\n",
      "           0       0.79      0.98      0.87      5503\n",
      "           1       0.92      0.47      0.62      2752\n",
      "\n",
      "    accuracy                           0.81      8255\n",
      "   macro avg       0.85      0.73      0.75      8255\n",
      "weighted avg       0.83      0.81      0.79      8255\n",
      "\n"
     ]
    }
   ],
   "source": [
    "# Initialize the model\n",
    "gb = GradientBoostingClassifier(random_state=42)\n",
    "\n",
    "# Perform 5-fold cross-validation on the training set\n",
    "cv_scores = cross_val_score(gb, X_train, y_train, cv=5, scoring='accuracy')\n",
    "\n",
    "print(\"Gradient Boosting:\") \n",
    "print(f\"Cross-Validation Scores: {cv_scores}\")\n",
    "print(f\"Mean CV Accuracy: {cv_scores.mean()}\")\n",
    "\n",
    "# Train the model on the training set\n",
    "gb.fit(X_train, y_train)\n",
    "\n",
    "# Predicting test results\n",
    "gb_pred = gb.predict(X_test)\n",
    "\n",
    "# Evaluation\n",
    "\n",
    "print(\"Test Accuracy : %.2f\" % accuracy_score(y_test, gb_pred))\n",
    "# print(\"Train Accuracy : %.2f\" % accuracy_score(y_train, gb.predict(X_train)))\n",
    "print()\n",
    "\n",
    "# Confusion Matrix\n",
    "cm = confusion_matrix(y_test, gb_pred)\n",
    "print(\"Confusion Matrix:\\n\", cm)\n",
    "\n",
    "# Classification Report\n",
    "print(\"Classification Report:\\n\", classification_report(y_test, gb_pred))"
   ]
  },
  {
   "cell_type": "markdown",
   "id": "871e31e7",
   "metadata": {},
   "source": [
    "# Random Forest"
   ]
  },
  {
   "cell_type": "code",
   "execution_count": 47,
   "id": "2c8939d9",
   "metadata": {},
   "outputs": [
    {
     "name": "stdout",
     "output_type": "stream",
     "text": [
      "Random Forest:\n",
      "Cross-Validation Scores: [0.95174642 0.94831415 0.95033313 0.95476575 0.95315024]\n",
      "Mean CV Accuracy: 0.9516619388650733\n",
      "Test Accuracy : 0.96\n",
      "\n",
      "Confusion Matrix:\n",
      " [[5286  217]\n",
      " [ 150 2602]]\n",
      "Classification Report:\n",
      "               precision    recall  f1-score   support\n",
      "\n",
      "           0       0.97      0.96      0.97      5503\n",
      "           1       0.92      0.95      0.93      2752\n",
      "\n",
      "    accuracy                           0.96      8255\n",
      "   macro avg       0.95      0.95      0.95      8255\n",
      "weighted avg       0.96      0.96      0.96      8255\n",
      "\n"
     ]
    }
   ],
   "source": [
    "# Initialize the model\n",
    "rf = RandomForestClassifier(random_state=42)\n",
    "\n",
    "# Perform 5-fold cross-validation on the training set\n",
    "cv_scores = cross_val_score(rf, X_train, y_train, cv=5, scoring='accuracy')\n",
    "\n",
    "print(\"Random Forest:\")\n",
    "print(f\"Cross-Validation Scores: {cv_scores}\")\n",
    "print(f\"Mean CV Accuracy: {cv_scores.mean()}\")\n",
    "\n",
    "# Train the model on the training set\n",
    "rf.fit(X_train, y_train)\n",
    "\n",
    "# Predicting test results\n",
    "rf_pred = rf.predict(X_test)\n",
    "\n",
    "# Evaluation\n",
    "\n",
    "print(\"Test Accuracy : %.2f\" % accuracy_score(y_test, rf_pred))\n",
    "# print(\"Train Accuracy : %.2f\" % accuracy_score(y_train, rf.predict(X_train)))\n",
    "print()\n",
    "\n",
    "# Confusion Matrix\n",
    "cm = confusion_matrix(y_test, rf_pred)\n",
    "print(\"Confusion Matrix:\\n\", cm)\n",
    "\n",
    "# Classification Report\n",
    "print(\"Classification Report:\\n\", classification_report(y_test, rf_pred))"
   ]
  },
  {
   "cell_type": "markdown",
   "id": "9e8f1042",
   "metadata": {},
   "source": [
    "# Support Vector Machine (SVM)"
   ]
  },
  {
   "cell_type": "code",
   "execution_count": 48,
   "id": "1e191206",
   "metadata": {},
   "outputs": [
    {
     "name": "stdout",
     "output_type": "stream",
     "text": [
      "Support Vector Machine (SVM)\n",
      "Cross-Validation Scores: [0.92792247 0.92085605 0.92711488 0.93073506 0.91861874]\n",
      "Mean CV Accuracy: 0.9250494388773045\n",
      "Test Accuracy : 0.93\n",
      "\n",
      "Confusion Matrix:\n",
      " [[5041  462]\n",
      " [ 139 2613]]\n",
      "Classification Report:\n",
      "               precision    recall  f1-score   support\n",
      "\n",
      "           0       0.97      0.92      0.94      5503\n",
      "           1       0.85      0.95      0.90      2752\n",
      "\n",
      "    accuracy                           0.93      8255\n",
      "   macro avg       0.91      0.93      0.92      8255\n",
      "weighted avg       0.93      0.93      0.93      8255\n",
      "\n"
     ]
    }
   ],
   "source": [
    "# Initialize the model\n",
    "svm_model = svm.SVC(kernel='linear', random_state=42)\n",
    "\n",
    "# Perform 5-fold cross-validation on the training set\n",
    "cv_scores = cross_val_score(svm_model, X_train, y_train, cv=5, scoring='accuracy')\n",
    "\n",
    "print(\"Support Vector Machine (SVM)\")\n",
    "print(f\"Cross-Validation Scores: {cv_scores}\")\n",
    "print(f\"Mean CV Accuracy: {cv_scores.mean()}\")\n",
    "\n",
    "# Train the model on the training set\n",
    "svm_model.fit(X_train, y_train)\n",
    "\n",
    "# Predicting test results\n",
    "svm_pred = svm_model.predict(X_test)\n",
    "\n",
    "# Evaluation\n",
    "\n",
    "print(\"Test Accuracy : %.2f\" % accuracy_score(y_test, svm_pred))\n",
    "# print(\"Train Accuracy : %.2f\" % accuracy_score(y_train, svm_model.predict(X_train)))\n",
    "print()\n",
    "\n",
    "# Confusion Matrix\n",
    "cm = confusion_matrix(y_test, svm_pred)\n",
    "print(\"Confusion Matrix:\\n\", cm)\n",
    "\n",
    "# Classification Report\n",
    "print(\"Classification Report:\\n\", classification_report(y_test, svm_pred))"
   ]
  },
  {
   "cell_type": "markdown",
   "id": "9a831576",
   "metadata": {},
   "source": [
    "# Naive Bayes"
   ]
  },
  {
   "cell_type": "code",
   "execution_count": 49,
   "id": "bd3148fa",
   "metadata": {},
   "outputs": [
    {
     "name": "stdout",
     "output_type": "stream",
     "text": [
      "Naive Bayes\n",
      "Cross-Validation Scores: [0.84857662 0.85241268 0.85665253 0.86147011 0.85339257]\n",
      "Mean CV Accuracy: 0.8545009029954267\n",
      "Test Accuracy : 0.86\n",
      "\n",
      "Confusion Matrix:\n",
      " [[5251  252]\n",
      " [ 911 1841]]\n",
      "Classification Report:\n",
      "               precision    recall  f1-score   support\n",
      "\n",
      "           0       0.85      0.95      0.90      5503\n",
      "           1       0.88      0.67      0.76      2752\n",
      "\n",
      "    accuracy                           0.86      8255\n",
      "   macro avg       0.87      0.81      0.83      8255\n",
      "weighted avg       0.86      0.86      0.85      8255\n",
      "\n"
     ]
    }
   ],
   "source": [
    "# Initialize the model\n",
    "nb = MultinomialNB()\n",
    "\n",
    "# Perform 5-fold cross-validation on the training set\n",
    "cv_scores = cross_val_score(nb, X_train, y_train, cv=5, scoring='accuracy')\n",
    "\n",
    "print(\"Naive Bayes\")\n",
    "print(f\"Cross-Validation Scores: {cv_scores}\")\n",
    "print(f\"Mean CV Accuracy: {cv_scores.mean()}\")\n",
    "\n",
    "# Train the model on the training set\n",
    "nb.fit(X_train, y_train)\n",
    "\n",
    "# Predicting test results\n",
    "nb_pred = nb.predict(X_test)\n",
    "\n",
    "# Evaluation\n",
    "\n",
    "print(\"Test Accuracy : %.2f\" % accuracy_score(y_test, nb_pred))\n",
    "# print(\"Train Accuracy : %.2f\" % accuracy_score(y_train, nb.predict(X_train)))\n",
    "print()\n",
    "\n",
    "# Confusion Matrix\n",
    "cm = confusion_matrix(y_test, nb_pred)\n",
    "print(\"Confusion Matrix:\\n\", cm)\n",
    "\n",
    "# Classification Report\n",
    "print(\"Classification Report:\\n\", classification_report(y_test, nb_pred))"
   ]
  },
  {
   "cell_type": "code",
   "execution_count": 50,
   "id": "dcd822fa",
   "metadata": {},
   "outputs": [],
   "source": [
    "# Make dataframes to plot\n",
    "\n",
    "\n",
    "logreg_df = pd.DataFrame(data=[f1_score(y_test, y_pred), accuracy_score(y_test, y_pred), recall_score(y_test, y_pred),\n",
    "                               precision_score(y_test, y_pred), roc_auc_score(y_test, y_pred)],\n",
    "                         columns=['Logistic Regression Score'],\n",
    "                         index=[\"F1\", \"Accuracy\", \"Recall\", \"Precision\", \"ROC AUC Score\"])\n",
    "\n",
    "\n",
    "gb_df = pd.DataFrame(data=[f1_score(y_test, gb_pred), accuracy_score(y_test, gb_pred), recall_score(y_test, gb_pred),\n",
    "                           precision_score(y_test, gb_pred), roc_auc_score(y_test, gb_pred)], \n",
    "                     columns=['Gradient Boosting Score'],\n",
    "                     index=[\"F1\", \"Accuracy\", \"Recall\", \"Precision\", \"ROC AUC Score\"])\n",
    "\n",
    "\n",
    "rf_df = pd.DataFrame(data=[f1_score(y_test, rf_pred), accuracy_score(y_test, rf_pred), recall_score(y_test, rf_pred),\n",
    "                           precision_score(y_test, rf_pred), roc_auc_score(y_test, rf_pred)], \n",
    "                     columns=['Random Forest Score'],\n",
    "                     index=[\"F1\", \"Accuracy\", \"Recall\", \"Precision\", \"ROC AUC Score\"])\n",
    "\n",
    "\n",
    "svm_df = pd.DataFrame(data=[f1_score(y_test, svm_pred), accuracy_score(y_test, svm_pred), recall_score(y_test, svm_pred),\n",
    "                           precision_score(y_test, svm_pred), roc_auc_score(y_test, svm_pred)], \n",
    "                     columns=['Support Vector Machine (SVM) Score'],\n",
    "                     index=[\"F1\", \"Accuracy\", \"Recall\", \"Precision\", \"ROC AUC Score\"])\n",
    "\n",
    "\n",
    "\n",
    "nb_df = pd.DataFrame(data=[f1_score(y_test, nb_pred), accuracy_score(y_test, nb_pred), recall_score(y_test, nb_pred),\n",
    "                           precision_score(y_test, nb_pred), roc_auc_score(y_test, nb_pred)], \n",
    "                     columns=['Naive Bayes Score'],\n",
    "                     index=[\"F1\", \"Accuracy\", \"Recall\", \"Precision\", \"ROC AUC Score\"])\n"
   ]
  },
  {
   "cell_type": "code",
   "execution_count": 51,
   "id": "47eb031f",
   "metadata": {},
   "outputs": [
    {
     "data": {
      "image/png": "[encoded data removed]",
      "text/plain": [
       "<Figure size 1200x800 with 1 Axes>"
      ]
     },
     "metadata": {},
     "output_type": "display_data"
    }
   ],
   "source": [
    "# Combine all model metrics into one DataFrame\n",
    "df_models = pd.concat([logreg_df, gb_df, rf_df, svm_df, nb_df], axis=1)\n",
    "\n",
    "# Plotting\n",
    "import matplotlib\n",
    "\n",
    "colors = [\"lightgray\", \"lightgray\", \"#0f4c81\"]\n",
    "colormap = matplotlib.colors.LinearSegmentedColormap.from_list(\"\", colors)\n",
    "\n",
    "background_color = \"#fbfbfb\"\n",
    "\n",
    "fig = plt.figure(figsize=(12, 8))\n",
    "ax = fig.add_subplot(1, 1, 1)\n",
    "\n",
    "sns.heatmap(df_models.T, cmap=colormap, annot=True, fmt=\".2%\", vmin=0, vmax=1, linewidths=1, cbar=False,\n",
    "            ax=ax, annot_kws={\"fontsize\": 12})\n",
    "fig.patch.set_facecolor(background_color)\n",
    "ax.set_facecolor(background_color)\n",
    "\n",
    "ax.text(0, -1, 'Model Comparison', fontsize=18, fontweight='bold', fontfamily='serif')\n",
    "ax.tick_params(axis=u'both', which=u'both', length=0)\n",
    "\n",
    "plt.show()"
   ]
  },
  {
   "cell_type": "code",
   "execution_count": null,
   "id": "f97fa689",
   "metadata": {},
   "outputs": [],
   "source": []
  }
 ],
 "metadata": {
  "colab": {
   "provenance": []
  },
  "kernelspec": {
   "display_name": "Python 3 (ipykernel)",
   "language": "python",
   "name": "python3"
  },
  "language_info": {
   "codemirror_mode": {
    "name": "ipython",
    "version": 3
   },
   "file_extension": ".py",
   "mimetype": "text/x-python",
   "name": "python",
   "nbconvert_exporter": "python",
   "pygments_lexer": "ipython3",
   "version": "3.9.13"
  }
 },
 "nbformat": 4,
 "nbformat_minor": 5
}
